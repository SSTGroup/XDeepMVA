{
 "cells": [
  {
   "cell_type": "code",
   "execution_count": null,
   "id": "05c426ef",
   "metadata": {},
   "outputs": [],
   "source": [
    "%load_ext autoreload\n",
    "%autoreload 2"
   ]
  },
  {
   "cell_type": "code",
   "execution_count": null,
   "id": "71f3f090",
   "metadata": {},
   "outputs": [],
   "source": [
    "import random\n",
    "import tensorflow as tf\n",
    "import os\n",
    "import numpy as np\n",
    "\n",
    "from model_fc import SeizureModel\n",
    "from model_cnn import ConvSeizureModel\n",
    "from model_gru import GRUSeizureModel\n",
    "from dataprovider import dataprovider\n",
    "from training import experiment"
   ]
  },
  {
   "cell_type": "code",
   "execution_count": null,
   "id": "f72ba715",
   "metadata": {},
   "outputs": [],
   "source": [
    "data = dataprovider()"
   ]
  },
  {
   "cell_type": "code",
   "execution_count": null,
   "id": "69494c75",
   "metadata": {},
   "outputs": [],
   "source": [
    "dcca_type = 'gru'\n",
    "\n",
    "assert dcca_type in ['fc', 'cnn', 'gru']\n",
    "\n",
    "if dcca_type == 'fc':\n",
    "    seiz_model = SeizureModel(\n",
    "        encoder_config=[(512, 'relu'), (512, 'relu'), (5, None)],\n",
    "        decoder_config=[(512, 'relu'), (512, 'relu'), (300, None)]\n",
    "    )\n",
    "    l2 = 1e-6\n",
    "    l_rec = 1e-3\n",
    "    dim = 5\n",
    "\n",
    "elif dcca_type == 'cnn':\n",
    "    seiz_model = ConvSeizureModel(\n",
    "        encoder_config=[\n",
    "            dict(l_type='conv', n_filters=5, k_size=10),\n",
    "            dict(l_type='maxpool', pool_size=2),\n",
    "            dict(l_type='conv', n_filters=5, k_size=10),\n",
    "            dict(l_type='maxpool', pool_size=5),\n",
    "            dict(l_type='conv', n_filters=5, k_size=5),\n",
    "            dict(l_type='maxpool', pool_size=5),\n",
    "            dict(l_type='conv', n_filters=1, k_size=1),\n",
    "        ],\n",
    "        decoder_config=[\n",
    "            dict(l_type='conv', n_filters=5, k_size=1),\n",
    "            dict(l_type='conv_transp', n_filters=5, k_size=2, strides=5),\n",
    "            dict(l_type='conv', n_filters=5, k_size=5),\n",
    "            dict(l_type='conv_transp', n_filters=5, k_size=2, strides=5),\n",
    "            dict(l_type='conv', n_filters=5, k_size=10),\n",
    "            dict(l_type='conv_transp', n_filters=5, k_size=2, strides=2),\n",
    "            dict(l_type='conv', n_filters=1, k_size=10),\n",
    "        ]\n",
    "    )\n",
    "    l2 = 1e-5\n",
    "    l_rec = 1e-10\n",
    "    dim = 6\n",
    "    \n",
    "elif dcca_type == 'gru':\n",
    "    seiz_model = GRUSeizureModel(\n",
    "        encoder_config=[(7, False)],\n",
    "        decoder_config=[300, (1, True)]\n",
    "    )\n",
    "    l2 = 1e-8\n",
    "    l_rec = 1e-3\n",
    "    dim = 7"
   ]
  },
  {
   "cell_type": "code",
   "execution_count": null,
   "id": "18a320d3",
   "metadata": {},
   "outputs": [],
   "source": [
    "exp = experiment(\n",
    "    'tmp', \n",
    "    data, \n",
    "    seiz_model, \n",
    "    dim=dim, \n",
    "    cca_reg=1e-4,\n",
    "    lambda_rec=l_rec,\n",
    "    lambda_l2=l2,\n",
    "    eval_epochs=1)"
   ]
  },
  {
   "cell_type": "code",
   "execution_count": null,
   "id": "9251cb99",
   "metadata": {
    "scrolled": true
   },
   "outputs": [],
   "source": [
    "exp.train(num_epochs=100)"
   ]
  },
  {
   "cell_type": "code",
   "execution_count": null,
   "id": "194b78b1",
   "metadata": {},
   "outputs": [],
   "source": [
    "exp.load_best()"
   ]
  },
  {
   "cell_type": "code",
   "execution_count": null,
   "id": "0c5d95c9",
   "metadata": {
    "scrolled": false
   },
   "outputs": [],
   "source": [
    "exp.analyse_subspace(views=[1], method='DCCAE', latent_dim=1)"
   ]
  },
  {
   "cell_type": "code",
   "execution_count": null,
   "id": "b5b4a394",
   "metadata": {},
   "outputs": [],
   "source": []
  }
 ],
 "metadata": {
  "kernelspec": {
   "display_name": "Python 3.7 (system)",
   "language": "python",
   "name": "python37"
  },
  "language_info": {
   "codemirror_mode": {
    "name": "ipython",
    "version": 3
   },
   "file_extension": ".py",
   "mimetype": "text/x-python",
   "name": "python",
   "nbconvert_exporter": "python",
   "pygments_lexer": "ipython3",
   "version": "3.7.12"
  }
 },
 "nbformat": 4,
 "nbformat_minor": 5
}
